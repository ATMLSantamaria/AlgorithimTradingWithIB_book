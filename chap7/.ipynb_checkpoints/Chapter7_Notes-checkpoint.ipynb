{
 "cells": [
  {
   "cell_type": "markdown",
   "metadata": {},
   "source": [
    "# Contract and orders\n",
    "\n",
    "Contract is a general term for a financial instrument.\n",
    "In the IB API the class contract has next characteristics\n",
    "\n",
    "1: 4 fundamental fields\n",
    "2: optional fields\n",
    "3: derivative specific fields\n",
    "\n",
    "### The Fundamental Fields\n"
   ]
  },
  {
   "cell_type": "code",
   "execution_count": 2,
   "metadata": {},
   "outputs": [
    {
     "ename": "ModuleNotFoundError",
     "evalue": "No module named 'ibapi'",
     "output_type": "error",
     "traceback": [
      "\u001b[0;31m---------------------------------------------------------------------------\u001b[0m",
      "\u001b[0;31mModuleNotFoundError\u001b[0m                       Traceback (most recent call last)",
      "Cell \u001b[0;32mIn[2], line 1\u001b[0m\n\u001b[0;32m----> 1\u001b[0m \u001b[38;5;28;01mfrom\u001b[39;00m\u001b[38;5;250m \u001b[39m\u001b[38;5;21;01mibapi\u001b[39;00m\u001b[38;5;21;01m.\u001b[39;00m\u001b[38;5;21;01mclient\u001b[39;00m\u001b[38;5;250m \u001b[39m\u001b[38;5;28;01mimport\u001b[39;00m Contract\n\u001b[1;32m      3\u001b[0m con \u001b[38;5;241m=\u001b[39m Contract()\n\u001b[1;32m      4\u001b[0m con\u001b[38;5;241m.\u001b[39msymbol \u001b[38;5;241m=\u001b[39m \u001b[38;5;124m\"\u001b[39m\u001b[38;5;124mIBM\u001b[39m\u001b[38;5;124m\"\u001b[39m\n",
      "\u001b[0;31mModuleNotFoundError\u001b[0m: No module named 'ibapi'"
     ]
    }
   ],
   "source": [
    "import sys\n",
    "\n",
    "sys.path.append('/home/alejandro/workspace/trading/IBJts/source/pythonclient/')\n",
    "\n",
    "from ibapi.client import Contract\n",
    "\n",
    "\n",
    "con = Contract()\n",
    "con.symbol = \"IBM\"\n",
    "con.secType = \"STK\"\n",
    "con.currency = \"USD\"\n",
    "con.exchange = \"SMART\""
   ]
  },
  {
   "cell_type": "markdown",
   "metadata": {},
   "source": [
    "We have:\n",
    "\n",
    "*symbol* -> the ticker symbol\n",
    "\n",
    "*secType* -> Identify if the contract is a *stock*, *bond*... (STK,BOND,IND,FUND,OPT...)\n",
    "\n",
    "*currency* -> USD,CHF, euro...\n",
    "\n",
    "*exchange* -> at the beggining just use *SMART* and let IB to decide. Later we can investigate the different exchanges"
   ]
  },
  {
   "cell_type": "markdown",
   "metadata": {},
   "source": [
    "### Optional Fields\n",
    "\n",
    "conID (int)-> Identifies contract ID in the app\n",
    "\n",
    "primaryExchange (string)\n",
    "\n",
    "localSymbol (string)\n",
    "\n",
    "tradingClass (string)\n",
    "\n",
    "secIDType (string) -> specific for bonds\n",
    "\n",
    "secId (string) -> specific for bonds"
   ]
  },
  {
   "cell_type": "markdown",
   "metadata": {},
   "source": [
    "# Derivative Specific Fields\n",
    "\n",
    "_strike_ (double) -> strike price of an option (he price at which the option holder can buy or sell the underlying asset)\n",
    "\n",
    "_right_ (string) -> The type of an option (put or call)\n",
    "\n",
    "_multiplier_ (string) -> The number of assets controlled by the derivative\n",
    "\n",
    "_includeExpired_\n",
    "\n",
    "_lastTradeDate_ (string) -> Last trading day or contract month (options and futures)\n",
    "\n",
    "_deltaNeutral_ (Delta Neutral Contract*) -> Delta and underlying price for delta neutral options and futures contracts\n",
    "\n",
    "_comboLegs_ (ComboLeg ListSPtr) -> Trades that make up an options combination\n",
    "\n",
    "_comboLeg Description_ (string) -> Description of the trades that make up an options combination\n",
    "\n",
    "# What is a combo?\n",
    "A combo contains multiple trades, or legs. \n",
    "\n",
    "It is useful in the context of delta neutral strategies.These strategies involve creating a portfolio where the sum of the delta values of all positions equals zero. Delta measures how sensitive an option's price is to changes in the price of the underlying asset. A delta-neutral position ensures that small price changes in the underlying asset have no net impact on the portfolio's value.\n",
    "\n",
    "An application can define a delta neutral combination by setting _deltaNeutralContract_.\n",
    "\n",
    "It has 3 fields and contains one or more _comboLeg_ instances\n",
    "\n",
    "Fields of _deltaNeutralContract_:\n",
    "\n",
    "conId — the identifier of the underlying asset\n",
    "\n",
    "delta — the delta of the underlying asset\n",
    "\n",
    "price — price of the underlying asset\n",
    "\n",
    "Fields of _comboLeg_\n",
    "\n",
    "_conId_ (int) -> Unique contract identifier\n",
    "\n",
    "_ratio_ (int) -> Relative number of contracts\n",
    "\n",
    "_action_ (string) -> Side of the leg (buy or sell)\n",
    "\n",
    "_exchange_ (string) -> Exchange to which an order should be routed\n",
    "\n",
    "_shortSaleSlot_ (int) -> Configures short sale\n",
    "\n",
    "_designated_ _Location_ (string) -> The location for handling the short sale (if applicable)\n"
   ]
  },
  {
   "cell_type": "code",
   "execution_count": 10,
   "metadata": {},
   "outputs": [],
   "source": [
    "from ibapi.contract import ComboLeg\n",
    "\n",
    "\n",
    "# Define the combo contract\n",
    "contract = Contract()\n",
    "contract.symbol = \"SBUX\"\n",
    "contract.secType = \"BAG\"\n",
    "contract.currency = \"USD\"\n",
    "contract.exchange = \"SMART\"\n",
    "\n",
    "# First leg of the combo\n",
    "leg1 = ComboLeg()\n",
    "leg1.conId = ...\n",
    "leg1.ratio = 2\n",
    "leg1.action = \"SELL\"\n",
    "\n",
    "# Second leg of the combo\n",
    "leg2 = ComboLeg()\n",
    "leg2.conId = ...\n",
    "leg2.ratio = 1\n",
    "leg2.action = \"BUY\"\n",
    "\n",
    "# Add the legs to the combo\n",
    "contract.comboLegs = []\n",
    "contract.comboLegs.append(leg1)\n",
    "contract.comboLegs.append(leg2)"
   ]
  }
 ],
 "metadata": {
  "kernelspec": {
   "display_name": "Python 3 (ipykernel)",
   "language": "python",
   "name": "python3"
  },
  "language_info": {
   "codemirror_mode": {
    "name": "ipython",
    "version": 3
   },
   "file_extension": ".py",
   "mimetype": "text/x-python",
   "name": "python",
   "nbconvert_exporter": "python",
   "pygments_lexer": "ipython3",
   "version": "3.9.18"
  }
 },
 "nbformat": 4,
 "nbformat_minor": 4
}
